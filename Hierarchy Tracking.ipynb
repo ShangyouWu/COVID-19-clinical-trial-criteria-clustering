{
 "cells": [
  {
   "cell_type": "code",
   "execution_count": 1,
   "metadata": {},
   "outputs": [],
   "source": [
    "# This method is to extract the hierarchy relationship between concepts from OMOP, then track back the concepts' ancestors\n",
    "# to see that whether they are similar (by sharing common ancestor)\n",
    "\n",
    "# The results is not consistent with the opinions from domain expert probably because the way OMOP store the hierarchy relationship\n",
    "# information is either too general or too detailed\n",
    "\n",
    "# To excute the code below, SQL Server is required, and local database can be built by downloeading from http://athena.ohdsi.org/"
   ]
  },
  {
   "cell_type": "code",
   "execution_count": 1,
   "metadata": {},
   "outputs": [],
   "source": [
    "import numpy as np\n",
    "import pandas as pd"
   ]
  },
  {
   "cell_type": "code",
   "execution_count": 4,
   "metadata": {},
   "outputs": [],
   "source": [
    "crit = pd.read_csv('all_criteria_for_azure.csv')"
   ]
  },
  {
   "cell_type": "code",
   "execution_count": 6,
   "metadata": {},
   "outputs": [],
   "source": [
    "import pyodbc\n",
    "\n",
    "conn = pyodbc.connect('Driver={SQL Server};'\n",
    "                      'Server=DESKTOP-0PE7IP3\\SQLEXPRESS01;'\n",
    "                      'Database=OMOP;'\n",
    "                      'Trusted_Connection=yes;')\n",
    "cursor = conn.cursor()"
   ]
  },
  {
   "cell_type": "code",
   "execution_count": 7,
   "metadata": {},
   "outputs": [],
   "source": [
    "def get_ancestor(concept_id, level):\n",
    "    \n",
    "    query = \\\n",
    "    f'''select ancestor_concept_id\n",
    "    from CONCEPT_ANCESTOR\n",
    "    where descendant_concept_id = {concept_id} and min_levels_of_separation < {level}'''\n",
    "    \n",
    "    cursor.execute(query)\n",
    "\n",
    "    return set([ancestor_id[0] for ancestor_id in cursor])"
   ]
  },
  {
   "cell_type": "code",
   "execution_count": 8,
   "metadata": {},
   "outputs": [],
   "source": [
    "concept_name_list = ['Disease caused by severe acute respiratory syndrome coronavirus 2',\n",
    " 'Patient currently pregnant',\n",
    " 'Human coronavirus',\n",
    " 'Blood oxygen saturation',\n",
    " 'Fever',\n",
    " 'Aspartate aminotransferase measurement',\n",
    " 'Artificial respiration',\n",
    " 'Allergy to hydroxychloroquine',\n",
    " 'Dyspnea',\n",
    " 'Cough',\n",
    " 'Alanine aminotransferase measurement',\n",
    " 'Oxygen therapy',\n",
    " 'Retinal disorder',\n",
    " 'Hydroxychloroquine',\n",
    " 'Chronic kidney disease',\n",
    " 'Estimation of glomerular filtration rate',\n",
    " 'Dialysis procedure',\n",
    " 'Glucose-6-phosphate dehydrogenase deficiency anemia',\n",
    " 'Allergy to study medication',\n",
    " 'IMMUNOSUPPRESSANTS',\n",
    " 'Q-T interval corrected',\n",
    " 'Disease of liver',\n",
    " 'Human immunodeficiency virus infection',\n",
    " 'Respiratory rate',\n",
    " 'Measurement of renal clearance of creatinine',\n",
    " 'Prolonged QT interval',\n",
    " 'Cirrhosis of liver',\n",
    " 'Porphyria',\n",
    " 'Ratio of arterial oxygen tension to inspired oxygen fraction',\n",
    " 'Mycosis']\n",
    "\n",
    "concept_id_list = [crit[crit['concept_name']==i]['concept_id'].values[0] for i in concept_name_list]"
   ]
  },
  {
   "cell_type": "code",
   "execution_count": 10,
   "metadata": {},
   "outputs": [],
   "source": [
    "ancestors_list = [get_ancestor(c_id, 5) for c_id in concept_id_list]"
   ]
  },
  {
   "cell_type": "code",
   "execution_count": 148,
   "metadata": {},
   "outputs": [],
   "source": [
    "groups = {key: None for key in range(len(ancestors_list))}\n",
    "pools = dict()\n",
    "\n",
    "for i in range(len(ancestors_list)):\n",
    "    for group, concept_ids in pools.items():\n",
    "        if len(ancestors_list[i] & concept_ids) > 0:\n",
    "            groups[i] = group\n",
    "            pools[group] = (ancestors_list[i] | concept_ids)\n",
    "    if groups[i] == None: \n",
    "        groups[i] = len(pools)\n",
    "        pools[len(pools)] = ancestors_list[i]"
   ]
  },
  {
   "cell_type": "code",
   "execution_count": 160,
   "metadata": {},
   "outputs": [
    {
     "name": "stdout",
     "output_type": "stream",
     "text": [
      "\n",
      "//////////////GROUP0////////////////////\n",
      "Disease caused by severe acute respiratory syndrome coronavirus 2\n",
      "Human immunodeficiency virus infection\n",
      "\n",
      "//////////////GROUP1////////////////////\n",
      "Patient currently pregnant\n",
      "\n",
      "//////////////GROUP2////////////////////\n",
      "Human coronavirus\n",
      "\n",
      "//////////////GROUP3////////////////////\n",
      "Blood oxygen saturation\n",
      "Aspartate aminotransferase measurement\n",
      "Alanine aminotransferase measurement\n",
      "Estimation of glomerular filtration rate\n",
      "\n",
      "//////////////GROUP4////////////////////\n",
      "Fever\n",
      "\n",
      "//////////////GROUP5////////////////////\n",
      "Artificial respiration\n",
      "Oxygen therapy\n",
      "Dialysis procedure\n",
      "Measurement of renal clearance of creatinine\n",
      "Ratio of arterial oxygen tension to inspired oxygen fraction\n",
      "\n",
      "//////////////GROUP6////////////////////\n",
      "Allergy to hydroxychloroquine\n",
      "\n",
      "//////////////GROUP7////////////////////\n",
      "Dyspnea\n",
      "Cough\n",
      "Chronic kidney disease\n",
      "Glucose-6-phosphate dehydrogenase deficiency anemia\n",
      "Disease of liver\n",
      "Prolonged QT interval\n",
      "Cirrhosis of liver\n",
      "Porphyria\n",
      "Mycosis\n",
      "\n",
      "//////////////GROUP8////////////////////\n",
      "Retinal disorder\n",
      "\n",
      "//////////////GROUP9////////////////////\n",
      "Hydroxychloroquine\n",
      "\n",
      "//////////////GROUP10////////////////////\n",
      "Allergy to study medication\n",
      "\n",
      "//////////////GROUP11////////////////////\n",
      "IMMUNOSUPPRESSANTS\n",
      "\n",
      "//////////////GROUP12////////////////////\n",
      "Q-T interval corrected\n",
      "\n",
      "//////////////GROUP13////////////////////\n",
      "Respiratory rate\n"
     ]
    }
   ],
   "source": [
    "for i in range(len(pools)):\n",
    "    print('')\n",
    "    print(f'//////////////GROUP{i}////////////////////')\n",
    "    for key, value in groups.items():\n",
    "        if value == i:\n",
    "            print(concept_name_list[key])"
   ]
  },
  {
   "cell_type": "code",
   "execution_count": null,
   "metadata": {},
   "outputs": [],
   "source": []
  }
 ],
 "metadata": {
  "kernelspec": {
   "display_name": "Python 3",
   "language": "python",
   "name": "python3"
  },
  "language_info": {
   "codemirror_mode": {
    "name": "ipython",
    "version": 3
   },
   "file_extension": ".py",
   "mimetype": "text/x-python",
   "name": "python",
   "nbconvert_exporter": "python",
   "pygments_lexer": "ipython3",
   "version": "3.6.5"
  }
 },
 "nbformat": 4,
 "nbformat_minor": 2
}
